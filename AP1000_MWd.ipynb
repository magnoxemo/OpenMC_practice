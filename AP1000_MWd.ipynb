{
 "cells": [
  {
   "cell_type": "code",
   "execution_count": 1,
   "metadata": {},
   "outputs": [],
   "source": [
    "import openmc\n",
    "import math\n",
    "import openmc.deplete"
   ]
  },
  {
   "cell_type": "code",
   "execution_count": 2,
   "metadata": {},
   "outputs": [],
   "source": [
    "###############################################################################\n",
    "#                      Simulation Input File Parameters\n",
    "###############################################################################\n",
    "\n",
    "# OpenMC simulation parameters\n",
    "batches = 100\n",
    "inactive = 10\n",
    "particles = 1000\n"
   ]
  },
  {
   "cell_type": "code",
   "execution_count": 3,
   "metadata": {},
   "outputs": [],
   "source": [
    "###############################################################################\n",
    "#                 Exporting to OpenMC materials.xml file\n",
    "###############################################################################\n",
    "\n",
    "\n",
    "# Instantiate some Materials and register the appropriate Nuclides\n",
    "\n",
    "#UO2 fuel composition\n",
    "uo2 = openmc.Material(material_id=1, name='UO2 fuel at 4.2% wt enrichment')\n",
    "uo2.set_density('g/cm3', 10.55)\n",
    "uo2.add_element('U', 1, enrichment=4.2)\n",
    "uo2.add_element('O', 2)\n",
    "uo2.temperature = 1200\n",
    "uo2.deplete = True\n",
    "\n",
    "#Helium Composition\n",
    "helium = openmc.Material(material_id=2, name='Helium for gap')\n",
    "helium.set_density('g/cm3', 0.001598)\n",
    "helium.add_element('He', 1,'wo')\n",
    "helium.temperature = 613\n",
    "\n",
    "#zircaloy clad\n",
    "zircaloy = openmc.Material(material_id=3, name='Zircaloy 4')\n",
    "zircaloy.set_density('g/cm3', 6.55)\n",
    "zircaloy.add_element('Sn', 0.014  , 'wo')\n",
    "zircaloy.add_element('Fe', 0.00165, 'wo')\n",
    "zircaloy.add_element('Cr', 0.001  , 'wo')\n",
    "zircaloy.add_element('Zr', 0.98335, 'wo')\n",
    "zircaloy.temperature = 613\n",
    "\n",
    "#water \n",
    "water = openmc.Material(material_id=4, name='Water Moderator')\n",
    "water.set_density('g/cm3', 0.740582)\n",
    "water.add_nuclide('H1', 0.1111,'wo' )\n",
    "water.add_nuclide('O16', 0.8889 ,'wo')\n",
    "water.add_s_alpha_beta('c_H_in_H2O')\n",
    "water.temperature= 573\n",
    "\n",
    "# Instantiate a Materials collection and export to XML\n",
    "\n",
    "materials_file = openmc.Materials([uo2, helium, zircaloy, water])\n",
    "materials_file.export_to_xml()\n"
   ]
  },
  {
   "cell_type": "code",
   "execution_count": 4,
   "metadata": {},
   "outputs": [],
   "source": [
    "###############################################################################\n",
    "#                 Exporting to OpenMC geometry.xml file\n",
    "###############################################################################\n",
    "\n",
    "# Instantiate ZCylinder surfaces\n",
    "\n",
    "\n",
    "fuel_or  = openmc.ZCylinder(surface_id=2, x0=0, y0=0, r=0.4096, name='Fuel OR')\n",
    "clad_ir  = openmc.ZCylinder(surface_id=3, x0=0, y0=0, r=0.4178, name='Clad IR')\n",
    "clad_or  = openmc.ZCylinder(surface_id=4, x0=0, y0=0, r=0.4750, name='Clad OR')\n",
    "left     = openmc.XPlane(surface_id=5, x0=-0.6300, name='left')\n",
    "right    = openmc.XPlane(surface_id=6, x0=0.6300, name='right')\n",
    "bottom   = openmc.YPlane(surface_id=7, y0=-0.6300, name='bottom')\n",
    "top      = openmc.YPlane(surface_id=8, y0=0.6300, name='top')\n",
    "\n",
    "left.boundary_type = 'reflective'\n",
    "right.boundary_type = 'reflective'\n",
    "top.boundary_type = 'reflective'\n",
    "bottom.boundary_type = 'reflective'\n",
    "\n",
    "# Instantiate Cells\n",
    "\n",
    "fuel = openmc.Cell(cell_id=2, name='Fuel')\n",
    "gap = openmc.Cell(cell_id=3, name='Gap')\n",
    "clad = openmc.Cell(cell_id=4, name='Cladding')\n",
    "water1 = openmc.Cell(cell_id=5, name='Water')\n",
    "\n",
    "# Use surface half-spaces to define regions\n",
    "\n",
    "fuel.region  = -fuel_or\n",
    "gap.region  = +fuel_or & -clad_ir\n",
    "clad.region = +clad_ir & -clad_or\n",
    "water1.region = +clad_or & +left & -right & +bottom & -top\n",
    "\n",
    "# Register Materials with Cells\n",
    "\n",
    "fuel.fill = uo2\n",
    "gap.fill = helium\n",
    "clad.fill = zircaloy\n",
    "water1.fill = water\n",
    "\n",
    "# Instantiate Universe\n",
    "\n",
    "root = openmc.Universe(universe_id=1, name='root universe')\n",
    "\n",
    "# Register Cells with Universe\n",
    "\n",
    "root.add_cells([fuel, gap, clad, water1])\n",
    "\n",
    "# Instantiate a Geometry, register the root Universe, and export to XML\n",
    "\n",
    "geometry = openmc.Geometry(root)\n",
    "geometry.export_to_xml()\n"
   ]
  },
  {
   "cell_type": "code",
   "execution_count": 5,
   "metadata": {},
   "outputs": [],
   "source": [
    "###############################################################################\n",
    "#                   Exporting to OpenMC plots.xml file\n",
    "###############################################################################\n",
    "\n",
    "plot_xy = openmc.Plot()\n",
    "plot_xy.basis ='xy'\n",
    "plot_xy.origin = [0, 0, 0]\n",
    "plot_xy.width = [2, 2]\n",
    "plot_xy.pixels = [1000, 1000]\n",
    "\n",
    "plot_xy.colors={\n",
    "water1:'blue',\n",
    "fuel:'red',\n",
    "clad:'black',\n",
    "gap:'green'}\n",
    "\n",
    "# Instantiate a Plots collection, add plots, and export to XML\n",
    "\n",
    "plot_file = openmc.Plots()\n",
    "plot_file.append(plot_xy)\n",
    "plot_file.export_to_xml()\n"
   ]
  },
  {
   "cell_type": "code",
   "execution_count": 6,
   "metadata": {},
   "outputs": [],
   "source": [
    "###############################################################################\n",
    "#                   Exporting to OpenMC settings.xml file\n",
    "###############################################################################\n",
    "\n",
    "# Instantiate a Settings object, set all runtime parameters, and export to XML\n",
    "\n",
    "settings_file = openmc.Settings()\n",
    "settings_file.batches = batches\n",
    "settings_file.inactive = inactive\n",
    "settings_file.particles = particles\n",
    "settings_file.temperature = {'method':'interpolation'}\n",
    "\n",
    "# Create an initial uniform spatial source distribution over fissionable zones\n",
    "\n",
    "bounds = [-0.6300, -0.6300, -1, 0.6300, 0.6300, 1]\n",
    "uniform_dist = openmc.stats.Box(bounds[:3], bounds[3:], only_fissionable=True)\n",
    "settings_file.source = openmc.source.Source(space=uniform_dist)\n",
    "\n",
    "settings_file.export_to_xml()\n"
   ]
  },
  {
   "cell_type": "code",
   "execution_count": 7,
   "metadata": {},
   "outputs": [],
   "source": [
    "###############################################################################\n",
    "#                   Exporting to OpenMC tallies.xml file\n",
    "###############################################################################\n",
    "\n",
    "# Instantiate a tally mesh\n",
    "\n",
    "mesh = openmc.RegularMesh()\n",
    "mesh.dimension = [100, 100, 1]\n",
    "mesh.lower_left = [-0.6300, -0.6300, -1.e50]\n",
    "mesh.upper_right = [0.6300, 0.6300, 1.e50]\n",
    "\n",
    "# Instantiate some tally Filters\n",
    "\n",
    "energy_filter = openmc.EnergyFilter([0., 4., 20.e6])\n",
    "mesh_filter = openmc.MeshFilter(mesh)\n",
    "\n",
    "# Instantiate the Tally\n",
    "\n",
    "tally = openmc.Tally(tally_id=1, name='tally 1')\n",
    "tally.filters = [energy_filter, mesh_filter]\n",
    "tally.scores = ['flux', 'fission', 'nu-fission']\n",
    "\n",
    "# Instantiate a Tallies collection and export to XML\n",
    "\n",
    "tallies_file = openmc.Tallies([tally])\n",
    "tallies_file.export_to_xml()\n"
   ]
  },
  {
   "cell_type": "code",
   "execution_count": 8,
   "metadata": {},
   "outputs": [],
   "source": [
    "##################################################################################\n",
    "#                   Depletion Calculation (with \"MWd/Kg\" unit)\n",
    "##################################################################################\n",
    "#volume specification\n",
    "uo2.volume = 0.4423362456\n",
    "#depletion chain specification\n",
    "operator = openmc.deplete.Operator(geometry, settings_file,chain_file=\"/home/ashraful/Desktop/openmc/new/chain_casl_pwr.xml\")\n",
    "power = 176 # W/cm\n",
    "time_steps = [5] * 12\n",
    "integrator = openmc.deplete.PredictorIntegrator(operator, time_steps, power,timestep_units='MWd/kg')\n",
    "integrator.integrate()\n"
   ]
  },
  {
   "cell_type": "code",
   "execution_count": 9,
   "metadata": {},
   "outputs": [],
   "source": [
    "###################################################################\n",
    "#                         Find Out the Result\n",
    "###################################################################\n",
    "\n",
    "import openmc\n",
    "import openmc.deplete\n",
    "results = openmc.deplete.ResultsList.from_hdf5(\"./depletion_results.h5\")"
   ]
  },
  {
   "cell_type": "code",
   "execution_count": 10,
   "metadata": {},
   "outputs": [],
   "source": [
    "time, k = results.get_eigenvalue()"
   ]
  },
  {
   "cell_type": "code",
   "execution_count": 11,
   "metadata": {},
   "outputs": [
    {
     "data": {
      "text/plain": [
       "array([[1.36372835, 0.00306239],\n",
       "       [1.24994074, 0.00274467],\n",
       "       [1.18617629, 0.00295718],\n",
       "       [1.1441868 , 0.00317678],\n",
       "       [1.09763146, 0.00295199],\n",
       "       [1.06383974, 0.00306966],\n",
       "       [1.03067143, 0.00314169],\n",
       "       [0.99495447, 0.00260049],\n",
       "       [0.96529694, 0.00281726],\n",
       "       [0.93662621, 0.00264269],\n",
       "       [0.90984264, 0.00298005],\n",
       "       [0.8881966 , 0.00264216],\n",
       "       [0.86541821, 0.00275831]])"
      ]
     },
     "execution_count": 11,
     "metadata": {},
     "output_type": "execute_result"
    }
   ],
   "source": [
    "k"
   ]
  },
  {
   "cell_type": "code",
   "execution_count": 12,
   "metadata": {},
   "outputs": [
    {
     "data": {
      "image/png": "[encoded data removed]",
      "text/plain": [
       "<Figure size 432x288 with 1 Axes>"
      ]
     },
     "metadata": {
      "needs_background": "light"
     },
     "output_type": "display_data"
    }
   ],
   "source": [
    "time /= (24 * 60 * 60)\n",
    "import matplotlib.pyplot as plt\n",
    "plt.errorbar(time, k[:, 0], yerr=k[:, 1])\n",
    "plt.xlabel(\"Time [d]\")\n",
    "plt.ylabel(\"$k_{eff}\\pm \\sigma$\");"
   ]
  },
  {
   "cell_type": "code",
   "execution_count": 13,
   "metadata": {},
   "outputs": [],
   "source": [
    "_time, u5 = results.get_atoms(\"1\", \"U235\")\n",
    "_time, xe135 = results.get_atoms(\"1\", \"Xe135\")"
   ]
  },
  {
   "cell_type": "code",
   "execution_count": 14,
   "metadata": {},
   "outputs": [
    {
     "data": {
      "image/png": "[encoded data removed]",
      "text/plain": [
       "<Figure size 432x288 with 1 Axes>"
      ]
     },
     "metadata": {
      "needs_background": "light"
     },
     "output_type": "display_data"
    }
   ],
   "source": [
    "# U-235 cooncentration vs time\n",
    "plt.plot(time, u5, label=\"U235\")\n",
    "plt.xlabel(\"Time [d]\")\n",
    "plt.ylabel(\"Number of atoms - U235\");"
   ]
  },
  {
   "cell_type": "code",
   "execution_count": 15,
   "metadata": {},
   "outputs": [
    {
     "data": {
      "text/plain": [
       "Text(0, 0.5, 'Xe-135 atom concentration')"
      ]
     },
     "execution_count": 15,
     "metadata": {},
     "output_type": "execute_result"
    },
    {
     "data": {
      "image/png": "[encoded data removed]",
      "text/plain": [
       "<Figure size 432x288 with 1 Axes>"
      ]
     },
     "metadata": {
      "needs_background": "light"
     },
     "output_type": "display_data"
    }
   ],
   "source": [
    "plt.plot(time,xe135,\"-o\")\n",
    "plt.xlabel(\"Time\")\n",
    "plt.ylabel(\"Xe-135 atom concentration\")"
   ]
  },
  {
   "cell_type": "code",
   "execution_count": null,
   "metadata": {},
   "outputs": [],
   "source": []
  }
 ],
 "metadata": {
  "kernelspec": {
   "display_name": "Python 3",
   "language": "python",
   "name": "python3"
  },
  "language_info": {
   "codemirror_mode": {
    "name": "ipython",
    "version": 3
   },
   "file_extension": ".py",
   "mimetype": "text/x-python",
   "name": "python",
   "nbconvert_exporter": "python",
   "pygments_lexer": "ipython3",
   "version": "3.8.5"
  }
 },
 "nbformat": 4,
 "nbformat_minor": 4
}
