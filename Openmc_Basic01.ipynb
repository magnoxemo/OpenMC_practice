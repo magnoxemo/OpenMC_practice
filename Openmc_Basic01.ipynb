{
 "cells": [
  {
   "cell_type": "code",
   "execution_count": 5,
   "metadata": {},
   "outputs": [],
   "source": [
    "\n",
    "%matplotlib inline\n",
    "import openmc\n",
    "\n"
   ]
  },
  {
   "cell_type": "code",
   "execution_count": 6,
   "metadata": {},
   "outputs": [
    {
     "name": "stdout",
     "output_type": "stream",
     "text": [
      "Material\n",
      "\tID             =\t1\n",
      "\tName           =\tuo2\n",
      "\tTemperature    =\tNone\n",
      "\tDensity        =\tNone [sum]\n",
      "\tS(a,b) Tables  \n",
      "\tNuclides       \n",
      "\n"
     ]
    }
   ],
   "source": [
    "uo2 = openmc.Material(1, \"uo2\")\n",
    "print(uo2)"
   ]
  },
  {
   "cell_type": "code",
   "execution_count": 7,
   "metadata": {},
   "outputs": [],
   "source": [
    "# Add nuclides to uo2\n",
    "uo2.add_nuclide('U235', 0.03)\n",
    "uo2.add_nuclide('U238', 0.97)\n",
    "uo2.add_nuclide('O16', 2.0)\n",
    "uo2.set_density('g/cm3', 10.0)\n"
   ]
  },
  {
   "cell_type": "code",
   "execution_count": 8,
   "metadata": {},
   "outputs": [],
   "source": [
    "\n",
    "zirconium = openmc.Material(2, \"zirconium\")\n",
    "zirconium.add_element('Zr', 1.0)\n",
    "zirconium.set_density('g/cm3', 6.6)\n",
    "\n",
    "water = openmc.Material(3, \"h2o\")\n",
    "water.add_nuclide('H1', 2.0)\n",
    "water.add_nuclide('O16', 1.0)\n",
    "water.set_density('g/cm3', 1.0)"
   ]
  },
  {
   "cell_type": "code",
   "execution_count": 9,
   "metadata": {},
   "outputs": [],
   "source": [
    "water.add_s_alpha_beta('c_H_in_H2O')"
   ]
  },
  {
   "cell_type": "code",
   "execution_count": 10,
   "metadata": {},
   "outputs": [],
   "source": [
    "mats = openmc.Materials([uo2, zirconium, water])\n",
    "\n"
   ]
  },
  {
   "cell_type": "code",
   "execution_count": 11,
   "metadata": {},
   "outputs": [
    {
     "data": {
      "text/plain": [
       "True"
      ]
     },
     "execution_count": 11,
     "metadata": {},
     "output_type": "execute_result"
    }
   ],
   "source": [
    "mats = openmc.Materials()\n",
    "mats.append(uo2)\n",
    "mats += [zirconium, water]\n",
    "isinstance(mats, list)"
   ]
  },
  {
   "cell_type": "code",
   "execution_count": 23,
   "metadata": {},
   "outputs": [
    {
     "name": "stdout",
     "output_type": "stream",
     "text": [
      "<?xml version='1.0' encoding='utf-8'?>\n",
      "<materials>\n",
      "  <material depletable=\"true\" id=\"1\" name=\"uo2\">\n",
      "    <density units=\"g/cm3\" value=\"10.0\" />\n",
      "    <nuclide ao=\"0.03\" name=\"U235\" />\n",
      "    <nuclide ao=\"0.97\" name=\"U238\" />\n",
      "    <nuclide ao=\"2.0\" name=\"O16\" />\n",
      "  </material>\n",
      "  <material id=\"2\" name=\"zirconium\">\n",
      "    <density units=\"g/cm3\" value=\"6.6\" />\n",
      "    <nuclide ao=\"0.5145\" name=\"Zr90\" />\n",
      "    <nuclide ao=\"0.1122\" name=\"Zr91\" />\n",
      "    <nuclide ao=\"0.1715\" name=\"Zr92\" />\n",
      "    <nuclide ao=\"0.1738\" name=\"Zr94\" />\n",
      "    <nuclide ao=\"0.028\" name=\"Zr96\" />\n",
      "  </material>\n",
      "  <material id=\"3\" name=\"h2o\">\n",
      "    <density units=\"g/cm3\" value=\"1.0\" />\n",
      "    <nuclide ao=\"2.0\" name=\"H1\" />\n",
      "    <nuclide ao=\"0.999621\" name=\"O16\" />\n",
      "    <nuclide ao=\"0.000379\" name=\"O17\" />\n",
      "    <sab name=\"c_H_in_H2O\" />\n",
      "  </material>\n",
      "</materials>\n"
     ]
    }
   ],
   "source": [
    "mats.export_to_xml()\n",
    "!cat materials.xml"
   ]
  },
  {
   "cell_type": "code",
   "execution_count": 24,
   "metadata": {},
   "outputs": [
    {
     "name": "stdout",
     "output_type": "stream",
     "text": [
      "<?xml version='1.0' encoding='utf-8'?>\n",
      "<materials>\n",
      "  <material depletable=\"true\" id=\"1\" name=\"uo2\">\n",
      "    <density units=\"g/cm3\" value=\"10.0\" />\n",
      "    <nuclide ao=\"0.03\" name=\"U235\" />\n",
      "    <nuclide ao=\"0.97\" name=\"U238\" />\n",
      "    <nuclide ao=\"2.0\" name=\"O16\" />\n",
      "  </material>\n",
      "  <material id=\"2\" name=\"zirconium\">\n",
      "    <density units=\"g/cm3\" value=\"6.6\" />\n",
      "    <nuclide ao=\"0.5145\" name=\"Zr90\" />\n",
      "    <nuclide ao=\"0.1122\" name=\"Zr91\" />\n",
      "    <nuclide ao=\"0.1715\" name=\"Zr92\" />\n",
      "    <nuclide ao=\"0.1738\" name=\"Zr94\" />\n",
      "    <nuclide ao=\"0.028\" name=\"Zr96\" />\n",
      "  </material>\n",
      "  <material id=\"3\" name=\"h2o\">\n",
      "    <density units=\"g/cm3\" value=\"1.0\" />\n",
      "    <nuclide ao=\"2.0\" name=\"H1\" />\n",
      "    <nuclide ao=\"0.000379\" name=\"O17\" />\n",
      "    <nuclide ao=\"0.999621\" name=\"O16\" />\n",
      "    <nuclide ao=\"0.000379\" name=\"O17\" />\n",
      "    <sab name=\"c_H_in_H2O\" />\n",
      "  </material>\n",
      "</materials>\n"
     ]
    }
   ],
   "source": [
    "water.remove_nuclide('O16')\n",
    "water.add_element('O', 1.0)\n",
    "\n",
    "mats.export_to_xml()\n",
    "!cat materials.xml\n"
   ]
  },
  {
   "cell_type": "code",
   "execution_count": 14,
   "metadata": {},
   "outputs": [],
   "source": [
    "# Create PuO2 material\n",
    "puo2 = openmc.Material()\n",
    "puo2.add_nuclide('Pu239', 0.94)\n",
    "puo2.add_nuclide('Pu240', 0.06)\n",
    "puo2.add_nuclide('O16', 2.0)\n",
    "puo2.set_density('g/cm3', 11.5)\n",
    "\n",
    "# Create the mixture\n",
    "mox = openmc.Material.mix_materials([uo2, puo2], [0.97, 0.03], 'wo')"
   ]
  },
  {
   "cell_type": "code",
   "execution_count": 15,
   "metadata": {},
   "outputs": [],
   "source": [
    "sph = openmc.Sphere(r=1.0)\n",
    "inside_sphere = -sph\n",
    "outside_sphere = +sph\n",
    "z_plane = openmc.ZPlane(z0=0)\n",
    "northern_hemisphere = -sph & +z_plane\n",
    "northern_hemisphere.bounding_box\n",
    "cell = openmc.Cell()\n",
    "cell.region = northern_hemisphere\n",
    "\n",
    "# or...\n",
    "cell = openmc.Cell(region=northern_hemisphere)\n",
    "cell.fill = water\n",
    "universe = openmc.Universe()\n",
    "universe.add_cell(cell)\n",
    "\n",
    "# this also works\n",
    "universe = openmc.Universe(cells=[cell])\n"
   ]
  },
  {
   "cell_type": "code",
   "execution_count": 16,
   "metadata": {},
   "outputs": [
    {
     "data": {
      "text/plain": [
       "<matplotlib.image.AxesImage at 0x7f0d66410e50>"
      ]
     },
     "execution_count": 16,
     "metadata": {},
     "output_type": "execute_result"
    },
    {
     "data": {
      "image/png": "[encoded data removed]",
      "text/plain": [
       "<Figure size 432x288 with 1 Axes>"
      ]
     },
     "metadata": {
      "needs_background": "light"
     },
     "output_type": "display_data"
    }
   ],
   "source": [
    "universe.plot(width=(2.0, 2.0))"
   ]
  },
  {
   "cell_type": "code",
   "execution_count": 31,
   "metadata": {},
   "outputs": [
    {
     "data": {
      "text/plain": [
       "<matplotlib.image.AxesImage at 0x7f0d66095c10>"
      ]
     },
     "execution_count": 31,
     "metadata": {},
     "output_type": "execute_result"
    },
    {
     "data": {
      "image/png": "[encoded data removed]",
      "text/plain": [
       "<Figure size 432x288 with 1 Axes>"
      ]
     },
     "metadata": {
      "needs_background": "light"
     },
     "output_type": "display_data"
    }
   ],
   "source": [
    "universe.plot(width=(2.0, 2.0), basis='xz')\n",
    "\n",
    "universe.plot(width=(2.0, 2.0), basis='xz',\n",
    "              colors={cell: 'yellow'})\n"
   ]
  },
  {
   "cell_type": "code",
   "execution_count": 18,
   "metadata": {},
   "outputs": [
    {
     "name": "stdout",
     "output_type": "stream",
     "text": [
      "<?xml version='1.0' encoding='utf-8'?>\n",
      "<geometry>\n",
      "  <cell id=\"1\" material=\"1\" name=\"fuel\" region=\"-3\" universe=\"3\" />\n",
      "  <cell id=\"2\" material=\"void\" name=\"air gap\" region=\"3 -4\" universe=\"3\" />\n",
      "  <cell id=\"3\" material=\"2\" name=\"clad\" region=\"4 -5\" universe=\"3\" />\n",
      "  <cell id=\"4\" material=\"3\" name=\"moderator\" region=\"6 -7 8 -9 5\" universe=\"3\" />\n",
      "  <surface coeffs=\"0.0 0.0 0.39\" id=\"3\" type=\"z-cylinder\" />\n",
      "  <surface coeffs=\"0.0 0.0 0.4\" id=\"4\" type=\"z-cylinder\" />\n",
      "  <surface coeffs=\"0.0 0.0 0.46\" id=\"5\" type=\"z-cylinder\" />\n",
      "  <surface boundary=\"reflective\" coeffs=\"-0.63\" id=\"6\" type=\"x-plane\" />\n",
      "  <surface boundary=\"reflective\" coeffs=\"0.63\" id=\"7\" type=\"x-plane\" />\n",
      "  <surface boundary=\"reflective\" coeffs=\"-0.63\" id=\"8\" type=\"y-plane\" />\n",
      "  <surface boundary=\"reflective\" coeffs=\"0.63\" id=\"9\" type=\"y-plane\" />\n",
      "</geometry>\n"
     ]
    },
    {
     "name": "stderr",
     "output_type": "stream",
     "text": [
      "/home/ashraful/miniconda3/lib/python3.8/site-packages/openmc/mixin.py:68: IDWarning: Another Cell instance already exists with id=1.\n",
      "  warn(msg, IDWarning)\n",
      "/home/ashraful/miniconda3/lib/python3.8/site-packages/openmc/mixin.py:68: IDWarning: Another Cell instance already exists with id=2.\n",
      "  warn(msg, IDWarning)\n"
     ]
    }
   ],
   "source": [
    "fuel_or = openmc.ZCylinder(r=0.39)\n",
    "clad_ir = openmc.ZCylinder(r=0.40)\n",
    "clad_or = openmc.ZCylinder(r=0.46)\n",
    "fuel_region = -fuel_or\n",
    "gap_region = +fuel_or & -clad_ir\n",
    "clad_region = +clad_ir & -clad_or\n",
    "fuel = openmc.Cell(1, 'fuel')\n",
    "fuel.fill = uo2\n",
    "fuel.region = fuel_region\n",
    "\n",
    "gap = openmc.Cell(2, 'air gap')\n",
    "gap.region = gap_region\n",
    "\n",
    "clad = openmc.Cell(3, 'clad')\n",
    "clad.fill = zirconium\n",
    "clad.region = clad_region\n",
    "pitch = 1.26\n",
    "left = openmc.XPlane(x0=-pitch/2, boundary_type='reflective')\n",
    "right = openmc.XPlane(x0=pitch/2, boundary_type='reflective')\n",
    "bottom = openmc.YPlane(y0=-pitch/2, boundary_type='reflective')\n",
    "top = openmc.YPlane(y0=pitch/2, boundary_type='reflective')\n",
    "water_region = +left & -right & +bottom & -top & +clad_or\n",
    "\n",
    "moderator = openmc.Cell(4, 'moderator')\n",
    "moderator.fill = water\n",
    "moderator.region = water_region\n",
    "box = openmc.rectangular_prism(width=pitch, height=pitch,\n",
    "                               boundary_type='reflective')\n",
    "type(box)\n",
    "water_region = box & +clad_or\n",
    "root = openmc.Universe(cells=(fuel, gap, clad, moderator))\n",
    "\n",
    "geom = openmc.Geometry()\n",
    "geom.root_universe = root\n",
    "\n",
    "# or...\n",
    "geom = openmc.Geometry(root)\n",
    "geom.export_to_xml()\n",
    "!cat geometry.xml\n",
    "\n"
   ]
  },
  {
   "cell_type": "code",
   "execution_count": 19,
   "metadata": {},
   "outputs": [],
   "source": [
    "point = openmc.stats.Point((0, 0, 0))\n",
    "src = openmc.Source(space=point)\n",
    "settings = openmc.Settings()\n",
    "settings.source = src\n",
    "settings.batches = 100\n",
    "settings.inactive = 10\n",
    "settings.particles = 1000\n"
   ]
  },
  {
   "cell_type": "code",
   "execution_count": 20,
   "metadata": {},
   "outputs": [
    {
     "name": "stdout",
     "output_type": "stream",
     "text": [
      "<?xml version='1.0' encoding='utf-8'?>\n",
      "<settings>\n",
      "  <run_mode>eigenvalue</run_mode>\n",
      "  <particles>1000</particles>\n",
      "  <batches>100</batches>\n",
      "  <inactive>10</inactive>\n",
      "  <source strength=\"1.0\">\n",
      "    <space type=\"point\">\n",
      "      <parameters>0 0 0</parameters>\n",
      "    </space>\n",
      "  </source>\n",
      "</settings>\n"
     ]
    }
   ],
   "source": [
    "settings.export_to_xml()\n",
    "!cat settings.xml"
   ]
  },
  {
   "cell_type": "code",
   "execution_count": 21,
   "metadata": {},
   "outputs": [
    {
     "name": "stdout",
     "output_type": "stream",
     "text": [
      "<?xml version='1.0' encoding='utf-8'?>\n",
      "<tallies>\n",
      "  <filter id=\"1\" type=\"cell\">\n",
      "    <bins>1</bins>\n",
      "  </filter>\n",
      "  <tally id=\"1\">\n",
      "    <filters>1</filters>\n",
      "    <nuclides>U235</nuclides>\n",
      "    <scores>total fission absorption (n,gamma)</scores>\n",
      "  </tally>\n",
      "</tallies>\n"
     ]
    }
   ],
   "source": [
    "cell_filter = openmc.CellFilter(fuel)\n",
    "\n",
    "t = openmc.Tally(1)\n",
    "t.filters = [cell_filter]\n",
    "t.nuclides = ['U235']\n",
    "t.scores = ['total', 'fission', 'absorption', '(n,gamma)']\n",
    "tallies = openmc.Tallies([t])\n",
    "tallies.export_to_xml()\n",
    "!cat tallies.xml\n",
    "\n"
   ]
  },
  {
   "cell_type": "code",
   "execution_count": 22,
   "metadata": {},
   "outputs": [
    {
     "name": "stdout",
     "output_type": "stream",
     "text": [
      "                                %%%%%%%%%%%%%%%\n",
      "                           %%%%%%%%%%%%%%%%%%%%%%%%\n",
      "                        %%%%%%%%%%%%%%%%%%%%%%%%%%%%%%\n",
      "                      %%%%%%%%%%%%%%%%%%%%%%%%%%%%%%%%%%\n",
      "                    %%%%%%%%%%%%%%%%%%%%%%%%%%%%%%%%%%%%%%\n",
      "                   %%%%%%%%%%%%%%%%%%%%%%%%%%%%%%%%%%%%%%%%\n",
      "                                    %%%%%%%%%%%%%%%%%%%%%%%%\n",
      "                                     %%%%%%%%%%%%%%%%%%%%%%%%\n",
      "                 ###############      %%%%%%%%%%%%%%%%%%%%%%%%\n",
      "                ##################     %%%%%%%%%%%%%%%%%%%%%%%\n",
      "                ###################     %%%%%%%%%%%%%%%%%%%%%%%\n",
      "                ####################     %%%%%%%%%%%%%%%%%%%%%%\n",
      "                #####################     %%%%%%%%%%%%%%%%%%%%%\n",
      "                ######################     %%%%%%%%%%%%%%%%%%%%\n",
      "                #######################     %%%%%%%%%%%%%%%%%%\n",
      "                 #######################     %%%%%%%%%%%%%%%%%\n",
      "                 ######################     %%%%%%%%%%%%%%%%%\n",
      "                  ####################     %%%%%%%%%%%%%%%%%\n",
      "                    #################     %%%%%%%%%%%%%%%%%\n",
      "                     ###############     %%%%%%%%%%%%%%%%\n",
      "                       ############     %%%%%%%%%%%%%%%\n",
      "                          ########     %%%%%%%%%%%%%%\n",
      "                                      %%%%%%%%%%%\n",
      "\n",
      "                   | The OpenMC Monte Carlo Code\n",
      "         Copyright | 2011-2020 MIT and OpenMC contributors\n",
      "           License | https://docs.openmc.org/en/latest/license.html\n",
      "           Version | 0.12.0\n",
      "          Git SHA1 | 599a722a542ede426c3f1390a88ddb4e4e0045d3\n",
      "         Date/Time | 2020-12-12 21:35:21\n",
      "    OpenMP Threads | 3\n",
      "\n",
      " Reading settings XML file...\n",
      " Reading cross sections XML file...\n",
      " Reading materials XML file...\n",
      " Reading geometry XML file...\n",
      " Reading U235 from /home/ashraful/Documents/official\n",
      " libraries/endfb71/endfb71_hdf5/U235.h5\n",
      " Reading U238 from /home/ashraful/Documents/official\n",
      " libraries/endfb71/endfb71_hdf5/U238.h5\n",
      " Reading O16 from /home/ashraful/Documents/official\n",
      " libraries/endfb71/endfb71_hdf5/O16.h5\n",
      " Reading Zr90 from /home/ashraful/Documents/official\n",
      " libraries/endfb71/endfb71_hdf5/Zr90.h5\n",
      " Reading Zr91 from /home/ashraful/Documents/official\n",
      " libraries/endfb71/endfb71_hdf5/Zr91.h5\n",
      " Reading Zr92 from /home/ashraful/Documents/official\n",
      " libraries/endfb71/endfb71_hdf5/Zr92.h5\n",
      " Reading Zr94 from /home/ashraful/Documents/official\n",
      " libraries/endfb71/endfb71_hdf5/Zr94.h5\n",
      " Reading Zr96 from /home/ashraful/Documents/official\n",
      " libraries/endfb71/endfb71_hdf5/Zr96.h5\n",
      " Reading H1 from /home/ashraful/Documents/official\n",
      " libraries/endfb71/endfb71_hdf5/H1.h5\n",
      " Reading O17 from /home/ashraful/Documents/official\n",
      " libraries/endfb71/endfb71_hdf5/O17.h5\n",
      " Reading c_H_in_H2O from /home/ashraful/Documents/official\n",
      " libraries/endfb71/endfb71_hdf5/c_H_in_H2O.h5\n",
      " Minimum neutron data temperature: 294.000000 K\n",
      " Maximum neutron data temperature: 294.000000 K\n",
      " Reading tallies XML file...\n",
      " Preparing distributed cell instances...\n",
      " Writing summary.h5 file...\n",
      " Maximum neutron transport energy: 20000000.000000 eV for U235\n",
      " Initializing source particles...\n",
      "\n",
      " ====================>     K EIGENVALUE SIMULATION     <====================\n",
      "\n",
      "  Bat./Gen.      k            Average k\n",
      "  =========   ========   ====================\n",
      "        1/1    1.42066\n",
      "        2/1    1.39831\n",
      "        3/1    1.46207\n",
      "        4/1    1.44888\n",
      "        5/1    1.42595\n",
      "        6/1    1.35549\n",
      "        7/1    1.36717\n",
      "        8/1    1.45095\n",
      "        9/1    1.36061\n",
      "       10/1    1.36554\n",
      "       11/1    1.36973\n",
      "       12/1    1.44276    1.40625 +/- 0.03652\n",
      "       13/1    1.35512    1.38920 +/- 0.02711\n",
      "       14/1    1.54216    1.42744 +/- 0.04277\n",
      "       15/1    1.39353    1.42066 +/- 0.03382\n",
      "       16/1    1.38650    1.41497 +/- 0.02820\n",
      "       17/1    1.38760    1.41106 +/- 0.02415\n",
      "       18/1    1.38413    1.40769 +/- 0.02118\n",
      "       19/1    1.39088    1.40582 +/- 0.01877\n",
      "       20/1    1.47468    1.41271 +/- 0.01815\n",
      "       21/1    1.45695    1.41673 +/- 0.01690\n",
      "       22/1    1.40308    1.41559 +/- 0.01547\n",
      "       23/1    1.40821    1.41503 +/- 0.01424\n",
      "       24/1    1.32301    1.40845 +/- 0.01473\n",
      "       25/1    1.36702    1.40569 +/- 0.01399\n",
      "       26/1    1.30968    1.39969 +/- 0.01440\n",
      "       27/1    1.38099    1.39859 +/- 0.01357\n",
      "       28/1    1.42103    1.39984 +/- 0.01285\n",
      "       29/1    1.39741    1.39971 +/- 0.01216\n",
      "       30/1    1.36548    1.39800 +/- 0.01166\n",
      "       31/1    1.41573    1.39884 +/- 0.01112\n",
      "       32/1    1.39788    1.39880 +/- 0.01061\n",
      "       33/1    1.35942    1.39709 +/- 0.01028\n",
      "       34/1    1.40483    1.39741 +/- 0.00985\n",
      "       35/1    1.39418    1.39728 +/- 0.00944\n",
      "       36/1    1.41492    1.39796 +/- 0.00910\n",
      "       37/1    1.49392    1.40151 +/- 0.00945\n",
      "       38/1    1.45114    1.40329 +/- 0.00928\n",
      "       39/1    1.42619    1.40408 +/- 0.00899\n",
      "       40/1    1.35249    1.40236 +/- 0.00885\n",
      "       41/1    1.35401    1.40080 +/- 0.00870\n",
      "       42/1    1.40220    1.40084 +/- 0.00842\n",
      "       43/1    1.36437    1.39974 +/- 0.00824\n",
      "       44/1    1.33642    1.39787 +/- 0.00821\n",
      "       45/1    1.36953    1.39706 +/- 0.00801\n",
      "       46/1    1.30034    1.39438 +/- 0.00824\n",
      "       47/1    1.44097    1.39564 +/- 0.00811\n",
      "       48/1    1.37981    1.39522 +/- 0.00790\n",
      "       49/1    1.34870    1.39403 +/- 0.00779\n",
      "       50/1    1.41247    1.39449 +/- 0.00761\n",
      "       51/1    1.33382    1.39301 +/- 0.00756\n",
      "       52/1    1.37043    1.39247 +/- 0.00740\n",
      "       53/1    1.38754    1.39236 +/- 0.00723\n",
      "       54/1    1.40160    1.39257 +/- 0.00707\n",
      "       55/1    1.37511    1.39218 +/- 0.00692\n",
      "       56/1    1.38589    1.39204 +/- 0.00677\n",
      "       57/1    1.40630    1.39234 +/- 0.00663\n",
      "       58/1    1.29944    1.39041 +/- 0.00677\n",
      "       59/1    1.40019    1.39061 +/- 0.00663\n",
      "       60/1    1.42384    1.39127 +/- 0.00653\n",
      "       61/1    1.36502    1.39076 +/- 0.00643\n",
      "       62/1    1.37042    1.39037 +/- 0.00631\n",
      "       63/1    1.42295    1.39098 +/- 0.00622\n",
      "       64/1    1.40042    1.39116 +/- 0.00611\n",
      "       65/1    1.36382    1.39066 +/- 0.00602\n",
      "       66/1    1.31659    1.38934 +/- 0.00606\n",
      "       67/1    1.36101    1.38884 +/- 0.00597\n",
      "       68/1    1.46359    1.39013 +/- 0.00601\n",
      "       69/1    1.41012    1.39047 +/- 0.00591\n",
      "       70/1    1.27411    1.38853 +/- 0.00613\n",
      "       71/1    1.45399    1.38960 +/- 0.00612\n",
      "       72/1    1.40455    1.38984 +/- 0.00603\n",
      "       73/1    1.33020    1.38890 +/- 0.00601\n",
      "       74/1    1.44599    1.38979 +/- 0.00598\n",
      "       75/1    1.34985    1.38917 +/- 0.00592\n",
      "       76/1    1.36183    1.38876 +/- 0.00584\n",
      "       77/1    1.41080    1.38909 +/- 0.00576\n",
      "       78/1    1.43991    1.38984 +/- 0.00573\n",
      "       79/1    1.35613    1.38935 +/- 0.00566\n",
      "       80/1    1.31659    1.38831 +/- 0.00568\n",
      "       81/1    1.51344    1.39007 +/- 0.00587\n",
      "       82/1    1.38404    1.38999 +/- 0.00579\n",
      "       83/1    1.39613    1.39007 +/- 0.00571\n",
      "       84/1    1.43037    1.39061 +/- 0.00566\n",
      "       85/1    1.47316    1.39172 +/- 0.00569\n",
      "       86/1    1.39220    1.39172 +/- 0.00561\n",
      "       87/1    1.44400    1.39240 +/- 0.00558\n",
      "       88/1    1.42419    1.39281 +/- 0.00552\n",
      "       89/1    1.30930    1.39175 +/- 0.00556\n",
      "       90/1    1.46976    1.39273 +/- 0.00557\n",
      "       91/1    1.38334    1.39261 +/- 0.00550\n",
      "       92/1    1.35260    1.39212 +/- 0.00546\n",
      "       93/1    1.38505    1.39204 +/- 0.00539\n",
      "       94/1    1.38290    1.39193 +/- 0.00533\n",
      "       95/1    1.42597    1.39233 +/- 0.00528\n",
      "       96/1    1.41624    1.39261 +/- 0.00523\n",
      "       97/1    1.42053    1.39293 +/- 0.00518\n",
      "       98/1    1.36268    1.39258 +/- 0.00513\n",
      "       99/1    1.39175    1.39258 +/- 0.00507\n",
      "      100/1    1.38148    1.39245 +/- 0.00502\n",
      " Creating state point statepoint.100.h5...\n",
      "\n",
      " =======================>     TIMING STATISTICS     <=======================\n",
      "\n",
      " Total time for initialization     = 2.1304e+00 seconds\n",
      "   Reading cross sections          = 2.0751e+00 seconds\n",
      " Total time in simulation          = 3.1904e+00 seconds\n",
      "   Time in transport only          = 3.1535e+00 seconds\n",
      "   Time in inactive batches        = 2.8478e-01 seconds\n",
      "   Time in active batches          = 2.9056e+00 seconds\n",
      "   Time synchronizing fission bank = 6.5493e-03 seconds\n",
      "     Sampling source sites         = 5.6971e-03 seconds\n",
      "     SEND/RECV source sites        = 7.4931e-04 seconds\n",
      "   Time accumulating tallies       = 1.4312e-04 seconds\n",
      " Total time for finalization       = 1.6043e-04 seconds\n",
      " Total time elapsed                = 5.3266e+00 seconds\n",
      " Calculation Rate (inactive)       = 35114.5 particles/second\n",
      " Calculation Rate (active)         = 30974.5 particles/second\n",
      "\n",
      " ============================>     RESULTS     <============================\n",
      "\n",
      " k-effective (Collision)     = 1.39516 +/- 0.00457\n",
      " k-effective (Track-length)  = 1.39245 +/- 0.00502\n",
      " k-effective (Absorption)    = 1.40443 +/- 0.00333\n",
      " Combined k-effective        = 1.40145 +/- 0.00319\n",
      " Leakage Fraction            = 0.00000 +/- 0.00000\n",
      "\n"
     ]
    }
   ],
   "source": [
    "openmc.run()"
   ]
  },
  {
   "cell_type": "code",
   "execution_count": null,
   "metadata": {},
   "outputs": [],
   "source": []
  },
  {
   "cell_type": "code",
   "execution_count": null,
   "metadata": {},
   "outputs": [],
   "source": []
  },
  {
   "cell_type": "code",
   "execution_count": null,
   "metadata": {},
   "outputs": [],
   "source": []
  }
 ],
 "metadata": {
  "kernelspec": {
   "display_name": "Python 3",
   "language": "python",
   "name": "python3"
  },
  "language_info": {
   "codemirror_mode": {
    "name": "ipython",
    "version": 3
   },
   "file_extension": ".py",
   "mimetype": "text/x-python",
   "name": "python",
   "nbconvert_exporter": "python",
   "pygments_lexer": "ipython3",
   "version": "3.8.5"
  }
 },
 "nbformat": 4,
 "nbformat_minor": 4
}
