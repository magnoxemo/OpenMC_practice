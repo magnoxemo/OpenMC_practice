{
 "cells": [
  {
   "cell_type": "code",
   "execution_count": 1,
   "metadata": {},
   "outputs": [],
   "source": [
    "\n",
    "%matplotlib inline\n",
    "import openmc\n"
   ]
  },
  {
   "cell_type": "code",
   "execution_count": 2,
   "metadata": {},
   "outputs": [
    {
     "name": "stdout",
     "output_type": "stream",
     "text": [
      "Material\n",
      "\tID             =\t1\n",
      "\tName           =\tuo2\n",
      "\tTemperature    =\tNone\n",
      "\tDensity        =\tNone [sum]\n",
      "\tS(a,b) Tables  \n",
      "\tNuclides       \n",
      "\n"
     ]
    }
   ],
   "source": [
    "#Material_Definition\n",
    "\n",
    "uo2 = openmc.Material(1, \"uo2\")\n",
    "print(uo2)\n"
   ]
  },
  {
   "cell_type": "code",
   "execution_count": 3,
   "metadata": {},
   "outputs": [
    {
     "name": "stdout",
     "output_type": "stream",
     "text": [
      "Material\n",
      "\tID             =\t2\n",
      "\tName           =\t\n",
      "\tTemperature    =\tNone\n",
      "\tDensity        =\tNone [sum]\n",
      "\tS(a,b) Tables  \n",
      "\tNuclides       \n",
      "\n"
     ]
    }
   ],
   "source": [
    "\n",
    "mat=openmc.Material()\n",
    "print(mat)\n"
   ]
  },
  {
   "cell_type": "code",
   "execution_count": 4,
   "metadata": {},
   "outputs": [
    {
     "name": "stdout",
     "output_type": "stream",
     "text": [
      "Help on method add_nuclide in module openmc.material:\n",
      "\n",
      "add_nuclide(nuclide, percent, percent_type='ao') method of openmc.material.Material instance\n",
      "    Add a nuclide to the material\n",
      "    \n",
      "    Parameters\n",
      "    ----------\n",
      "    nuclide : str\n",
      "        Nuclide to add, e.g., 'Mo95'\n",
      "    percent : float\n",
      "        Atom or weight percent\n",
      "    percent_type : {'ao', 'wo'}\n",
      "        'ao' for atom percent and 'wo' for weight percent\n",
      "\n"
     ]
    }
   ],
   "source": [
    "help(uo2.add_nuclide)"
   ]
  },
  {
   "cell_type": "code",
   "execution_count": 5,
   "metadata": {},
   "outputs": [],
   "source": [
    "#Add Nuclides to Uo2\n",
    "\n",
    "uo2.add_nuclide('U235', 0.03)\n",
    "uo2.add_nuclide('U238', 0.97)\n",
    "uo2.add_nuclide('O16', 2.0)\n"
   ]
  },
  {
   "cell_type": "code",
   "execution_count": 6,
   "metadata": {},
   "outputs": [],
   "source": [
    "#Set density\n",
    "\n",
    "uo2.set_density('g/cm3', 10.0 )\n"
   ]
  },
  {
   "cell_type": "code",
   "execution_count": 7,
   "metadata": {},
   "outputs": [
    {
     "name": "stdout",
     "output_type": "stream",
     "text": [
      "Material\n",
      "\tID             =\t2\n",
      "\tName           =\tzirconium\n",
      "\tTemperature    =\tNone\n",
      "\tDensity        =\t6.6 [g/cm3]\n",
      "\tS(a,b) Tables  \n",
      "\tNuclides       \n",
      "\tZr             =\t1.0          [ao]\n",
      "\n",
      "Material\n",
      "\tID             =\t3\n",
      "\tName           =\twater\n",
      "\tTemperature    =\tNone\n",
      "\tDensity        =\t1.0 [g/cm3]\n",
      "\tS(a,b) Tables  \n",
      "\tNuclides       \n",
      "\tH1             =\t2.0          [ao]\n",
      "\tO16            =\t1.0          [ao]\n",
      "\n"
     ]
    },
    {
     "name": "stderr",
     "output_type": "stream",
     "text": [
      "/home/ashraful/miniconda3/lib/python3.8/site-packages/openmc/mixin.py:68: IDWarning: Another Material instance already exists with id=2.\n",
      "  warn(msg, IDWarning)\n",
      "/home/ashraful/miniconda3/lib/python3.8/site-packages/openmc/material.py:386: UserWarning: 'Zr' does not appear to be a nuclide name in GND format\n",
      "  warnings.warn(str(e))\n"
     ]
    }
   ],
   "source": [
    "#Materials for the clad and coolant-Moderator\n",
    "\n",
    "#Clad Material\n",
    "Zr = openmc.Material(2, \"zirconium\")\n",
    "Zr.add_nuclide('Zr', 1.0)\n",
    "Zr.set_density('g/cm3', 6.6)\n",
    "print(Zr)\n",
    "\n",
    "#Moderator Material\n",
    "h2o = openmc.Material(3, \"water\")\n",
    "h2o.add_nuclide('H1', 2.0)\n",
    "h2o.add_nuclide('O16', 1.0)\n",
    "h2o.set_density('g/cm3', 1.0)\n",
    "print(h2o)\n"
   ]
  },
  {
   "cell_type": "code",
   "execution_count": 8,
   "metadata": {},
   "outputs": [
    {
     "name": "stdout",
     "output_type": "stream",
     "text": [
      "Material\n",
      "\tID             =\t2\n",
      "\tName           =\tzirconium\n",
      "\tTemperature    =\tNone\n",
      "\tDensity        =\t6.6 [g/cm3]\n",
      "\tS(a,b) Tables  \n",
      "\tNuclides       \n",
      "\tZr90           =\t0.5145       [ao]\n",
      "\tZr91           =\t0.1122       [ao]\n",
      "\tZr92           =\t0.1715       [ao]\n",
      "\tZr94           =\t0.1738       [ao]\n",
      "\tZr96           =\t0.028        [ao]\n",
      "\n",
      "Material\n",
      "\tID             =\t3\n",
      "\tName           =\twater\n",
      "\tTemperature    =\tNone\n",
      "\tDensity        =\t1.0 [g/cm3]\n",
      "\tS(a,b) Tables  \n",
      "\tNuclides       \n",
      "\tH1             =\t1.99968852   [ao]\n",
      "\tH2             =\t0.00031148   [ao]\n",
      "\tO16            =\t0.999621     [ao]\n",
      "\tO17            =\t0.000379     [ao]\n",
      "\n"
     ]
    },
    {
     "name": "stderr",
     "output_type": "stream",
     "text": [
      "/home/ashraful/miniconda3/lib/python3.8/site-packages/openmc/mixin.py:68: IDWarning: Another Material instance already exists with id=3.\n",
      "  warn(msg, IDWarning)\n"
     ]
    }
   ],
   "source": [
    "#If we use add_element instead of add_nuclide; give us the value of isotopic concentration automatically\n",
    "\n",
    "#Clad Material\n",
    "Zr = openmc.Material(2, \"zirconium\")\n",
    "Zr.add_element('Zr', 1.0)\n",
    "Zr.set_density('g/cm3', 6.6)\n",
    "print(Zr)\n",
    "\n",
    "h2o = openmc.Material(3, \"water\")\n",
    "h2o.add_element('H', 2.0)\n",
    "h2o.add_element('O', 1.0)\n",
    "h2o.set_density('g/cm3', 1.0)\n",
    "print(h2o)"
   ]
  },
  {
   "cell_type": "code",
   "execution_count": 9,
   "metadata": {},
   "outputs": [
    {
     "name": "stdout",
     "output_type": "stream",
     "text": [
      "Material\n",
      "\tID             =\t1\n",
      "\tName           =\tuo2\n",
      "\tTemperature    =\tNone\n",
      "\tDensity        =\t10.0 [g/cm3]\n",
      "\tS(a,b) Tables  \n",
      "\tNuclides       \n",
      "\tU235           =\t0.03         [ao]\n",
      "\tU238           =\t0.97         [ao]\n",
      "\tO16            =\t2.0          [ao]\n",
      "\n"
     ]
    }
   ],
   "source": [
    "#Define the Enrichment level of an element\n",
    "\n",
    "uo2_three = openmc.Material()\n",
    "uo2_three.add_element('U', 1.0, enrichment=3.0)\n",
    "uo2_three.add_element('O', 2.0)\n",
    "uo2.set_density('g/cm3', 10.0)\n",
    "print(uo2)"
   ]
  },
  {
   "cell_type": "code",
   "execution_count": 10,
   "metadata": {},
   "outputs": [],
   "source": [
    "#Add s alpha beta table\n",
    "\n",
    "h2o.add_s_alpha_beta('c_H_in_H2O')"
   ]
  },
  {
   "cell_type": "code",
   "execution_count": 11,
   "metadata": {},
   "outputs": [],
   "source": [
    "mats = openmc.Materials([uo2, Zr, h2o])"
   ]
  },
  {
   "cell_type": "code",
   "execution_count": 12,
   "metadata": {},
   "outputs": [
    {
     "data": {
      "text/plain": [
       "True"
      ]
     },
     "execution_count": 12,
     "metadata": {},
     "output_type": "execute_result"
    }
   ],
   "source": [
    "#Material list testing\n",
    "\n",
    "mats = openmc.Materials()\n",
    "mats.append(uo2)\n",
    "mats += [Zr, h2o]\n",
    "isinstance(mats, list)\n"
   ]
  },
  {
   "cell_type": "code",
   "execution_count": 13,
   "metadata": {},
   "outputs": [
    {
     "name": "stdout",
     "output_type": "stream",
     "text": [
      "<?xml version='1.0' encoding='utf-8'?>\n",
      "<materials>\n",
      "  <material depletable=\"true\" id=\"1\" name=\"uo2\">\n",
      "    <density units=\"g/cm3\" value=\"10.0\" />\n",
      "    <nuclide ao=\"0.03\" name=\"U235\" />\n",
      "    <nuclide ao=\"0.97\" name=\"U238\" />\n",
      "    <nuclide ao=\"2.0\" name=\"O16\" />\n",
      "  </material>\n",
      "  <material id=\"2\" name=\"zirconium\">\n",
      "    <density units=\"g/cm3\" value=\"6.6\" />\n",
      "    <nuclide ao=\"0.5145\" name=\"Zr90\" />\n",
      "    <nuclide ao=\"0.1122\" name=\"Zr91\" />\n",
      "    <nuclide ao=\"0.1715\" name=\"Zr92\" />\n",
      "    <nuclide ao=\"0.1738\" name=\"Zr94\" />\n",
      "    <nuclide ao=\"0.028\" name=\"Zr96\" />\n",
      "  </material>\n",
      "  <material id=\"3\" name=\"water\">\n",
      "    <density units=\"g/cm3\" value=\"1.0\" />\n",
      "    <nuclide ao=\"1.99968852\" name=\"H1\" />\n",
      "    <nuclide ao=\"0.00031148\" name=\"H2\" />\n",
      "    <nuclide ao=\"0.999621\" name=\"O16\" />\n",
      "    <nuclide ao=\"0.000379\" name=\"O17\" />\n",
      "    <sab name=\"c_H_in_H2O\" />\n",
      "  </material>\n",
      "</materials>\n"
     ]
    }
   ],
   "source": [
    "#Finally create xml file for material\n",
    "\n",
    "mats.export_to_xml()\n",
    "!cat materials.xml"
   ]
  },
  {
   "cell_type": "code",
   "execution_count": 14,
   "metadata": {},
   "outputs": [
    {
     "name": "stdout",
     "output_type": "stream",
     "text": [
      "<?xml version='1.0' encoding='utf-8'?>\n",
      "<materials>\n",
      "  <material depletable=\"true\" id=\"1\" name=\"uo2\">\n",
      "    <density units=\"g/cm3\" value=\"10.0\" />\n",
      "    <nuclide ao=\"0.03\" name=\"U235\" />\n",
      "    <nuclide ao=\"0.97\" name=\"U238\" />\n",
      "    <nuclide ao=\"2.0\" name=\"O16\" />\n",
      "  </material>\n",
      "  <material id=\"2\" name=\"zirconium\">\n",
      "    <density units=\"g/cm3\" value=\"6.6\" />\n",
      "    <nuclide ao=\"0.5145\" name=\"Zr90\" />\n",
      "    <nuclide ao=\"0.1122\" name=\"Zr91\" />\n",
      "    <nuclide ao=\"0.1715\" name=\"Zr92\" />\n",
      "    <nuclide ao=\"0.1738\" name=\"Zr94\" />\n",
      "    <nuclide ao=\"0.028\" name=\"Zr96\" />\n",
      "  </material>\n",
      "  <material id=\"3\" name=\"water\">\n",
      "    <density units=\"g/cm3\" value=\"1.0\" />\n",
      "    <nuclide ao=\"1.99968852\" name=\"H1\" />\n",
      "    <nuclide ao=\"0.00031148\" name=\"H2\" />\n",
      "    <nuclide ao=\"0.000379\" name=\"O17\" />\n",
      "    <nuclide ao=\"0.999621\" name=\"O16\" />\n",
      "    <nuclide ao=\"0.000379\" name=\"O17\" />\n",
      "    <sab name=\"c_H_in_H2O\" />\n",
      "  </material>\n",
      "</materials>\n"
     ]
    }
   ],
   "source": [
    "#We can remove nuclide and add element; after creating xml file\n",
    "\n",
    "h2o.remove_nuclide('O16')\n",
    "h2o.add_element('O', 1.0)\n",
    "\n",
    "mats.export_to_xml()\n",
    "!cat materials.xml"
   ]
  },
  {
   "cell_type": "code",
   "execution_count": 15,
   "metadata": {},
   "outputs": [],
   "source": [
    "#Defining geometry\n",
    "#Create a sphere\n",
    "\n",
    "sph = openmc.Sphere(r = 1.0)\n",
    "\n"
   ]
  },
  {
   "cell_type": "code",
   "execution_count": 16,
   "metadata": {},
   "outputs": [],
   "source": [
    "#Define positive and negative half spsce\n",
    "\n",
    "inside_sphere = -sph\n",
    "outside_sphere = +sph\n"
   ]
  },
  {
   "cell_type": "code",
   "execution_count": 17,
   "metadata": {},
   "outputs": [
    {
     "name": "stdout",
     "output_type": "stream",
     "text": [
      "True False\n",
      "False True\n",
      "False False\n",
      "True True\n"
     ]
    }
   ],
   "source": [
    "#Checking_inside_sphere actually contains points inside the sphere:\n",
    "\n",
    "print((0,0,0) in inside_sphere, (0,0,2) in inside_sphere)\n",
    "print((0,0,0) in outside_sphere, (0,0,2) in outside_sphere)\n",
    "\n",
    "print((1,0,0) in inside_sphere, (0,2,0) in inside_sphere)\n",
    "print((1,0,0) in outside_sphere, (0,2,0) in outside_sphere)\n"
   ]
  },
  {
   "cell_type": "code",
   "execution_count": 18,
   "metadata": {},
   "outputs": [
    {
     "data": {
      "text/plain": [
       "(array([-1., -1.,  0.]), array([1., 1., 1.]))"
      ]
     },
     "execution_count": 18,
     "metadata": {},
     "output_type": "execute_result"
    }
   ],
   "source": [
    "#define a region that is the top part of the sphere by using Boolean algebra\n",
    "\n",
    "z_plane = openmc.ZPlane(z0=0)\n",
    "northern_hemisphere = -sph & + z_plane      #Here northern_hemisphere is a region\n",
    "\n",
    "#Define bounding box to see coordinates\n",
    "\n",
    "northern_hemisphere.bounding_box\n"
   ]
  },
  {
   "cell_type": "code",
   "execution_count": 19,
   "metadata": {},
   "outputs": [],
   "source": [
    "#Now that we see how to create volumes, we can use them to create a cell.\n",
    "#Create a cell\n",
    "\n",
    "cell = openmc.Cell(region = northern_hemisphere)\n",
    "\n",
    "#Or.........\n",
    "\n",
    "cell = openmc.Cell()\n",
    "cell.region = northern_hemisphere\n"
   ]
  },
  {
   "cell_type": "code",
   "execution_count": 20,
   "metadata": {},
   "outputs": [],
   "source": [
    "#By default, the cell is empty so we need to fill the cell\n",
    "\n",
    "cell.fill = h2o\n"
   ]
  },
  {
   "cell_type": "code",
   "execution_count": 21,
   "metadata": {},
   "outputs": [],
   "source": [
    "#Define Universe\n",
    "#A collection of cells is known as a universe; which can be used as a repeatable unit when creating a model\n",
    "#the benefit of creating a universe is that we can visualize our geometry while we're creating it\n",
    "\n",
    "universe = openmc.Universe()\n",
    "universe.add_cell(cell)\n"
   ]
  },
  {
   "cell_type": "code",
   "execution_count": 22,
   "metadata": {},
   "outputs": [
    {
     "data": {
      "text/plain": [
       "<matplotlib.image.AxesImage at 0x7fa14dfabf10>"
      ]
     },
     "execution_count": 22,
     "metadata": {},
     "output_type": "execute_result"
    },
    {
     "data": {
      "image/png": "[encoded data removed]",
      "text/plain": [
       "<Figure size 432x288 with 1 Axes>"
      ]
     },
     "metadata": {
      "needs_background": "light"
     },
     "output_type": "display_data"
    }
   ],
   "source": [
    "#Plot the geometry\n",
    "\n",
    "universe.plot(width = (2, 2))\n"
   ]
  },
  {
   "cell_type": "code",
   "execution_count": 23,
   "metadata": {},
   "outputs": [
    {
     "data": {
      "text/plain": [
       "<matplotlib.image.AxesImage at 0x7fa14df19460>"
      ]
     },
     "execution_count": 23,
     "metadata": {},
     "output_type": "execute_result"
    },
    {
     "data": {
      "image/png": "[encoded data removed]",
      "text/plain": [
       "<Figure size 432x288 with 1 Axes>"
      ]
     },
     "metadata": {
      "needs_background": "light"
     },
     "output_type": "display_data"
    }
   ],
   "source": [
    "universe.plot(width = (3, 3))"
   ]
  },
  {
   "cell_type": "code",
   "execution_count": 24,
   "metadata": {},
   "outputs": [
    {
     "data": {
      "text/plain": [
       "<matplotlib.image.AxesImage at 0x7fa14de7a220>"
      ]
     },
     "execution_count": 24,
     "metadata": {},
     "output_type": "execute_result"
    },
    {
     "data": {
      "image/png": "[encoded data removed]",
      "text/plain": [
       "<Figure size 432x288 with 1 Axes>"
      ]
     },
     "metadata": {
      "needs_background": "light"
     },
     "output_type": "display_data"
    }
   ],
   "source": [
    "universe.plot(width = (1, 1))"
   ]
  },
  {
   "cell_type": "code",
   "execution_count": 25,
   "metadata": {},
   "outputs": [
    {
     "data": {
      "text/plain": [
       "<matplotlib.image.AxesImage at 0x7fa14de400a0>"
      ]
     },
     "execution_count": 25,
     "metadata": {},
     "output_type": "execute_result"
    },
    {
     "data": {
      "image/png": "[encoded data removed]",
      "text/plain": [
       "<Figure size 432x288 with 1 Axes>"
      ]
     },
     "metadata": {
      "needs_background": "light"
     },
     "output_type": "display_data"
    }
   ],
   "source": [
    "#By default, the plot will appear in the x-y plane. We can change that with the basis argument\n",
    "\n",
    "universe.plot(width = (2, 2), basis = 'xz')\n"
   ]
  },
  {
   "cell_type": "code",
   "execution_count": 26,
   "metadata": {},
   "outputs": [
    {
     "data": {
      "text/plain": [
       "<matplotlib.image.AxesImage at 0x7fa14de26400>"
      ]
     },
     "execution_count": 26,
     "metadata": {},
     "output_type": "execute_result"
    },
    {
     "data": {
      "image/png": "[encoded data removed]",
      "text/plain": [
       "<Figure size 432x288 with 1 Axes>"
      ]
     },
     "metadata": {
      "needs_background": "light"
     },
     "output_type": "display_data"
    }
   ],
   "source": [
    "universe.plot(width = (2, 2), basis = 'xy')"
   ]
  },
  {
   "cell_type": "code",
   "execution_count": 27,
   "metadata": {},
   "outputs": [
    {
     "data": {
      "text/plain": [
       "<matplotlib.image.AxesImage at 0x7fa14dd76d90>"
      ]
     },
     "execution_count": 27,
     "metadata": {},
     "output_type": "execute_result"
    },
    {
     "data": {
      "image/png": "[encoded data removed]",
      "text/plain": [
       "<Figure size 432x288 with 1 Axes>"
      ]
     },
     "metadata": {
      "needs_background": "light"
     },
     "output_type": "display_data"
    }
   ],
   "source": [
    "universe.plot(width = (2, 2), basis = 'yz')"
   ]
  },
  {
   "cell_type": "code",
   "execution_count": 28,
   "metadata": {},
   "outputs": [
    {
     "data": {
      "text/plain": [
       "<matplotlib.image.AxesImage at 0x7fa14dd4dbe0>"
      ]
     },
     "execution_count": 28,
     "metadata": {},
     "output_type": "execute_result"
    },
    {
     "data": {
      "image/png": "[encoded data removed]",
      "text/plain": [
       "<Figure size 432x288 with 1 Axes>"
      ]
     },
     "metadata": {
      "needs_background": "light"
     },
     "output_type": "display_data"
    }
   ],
   "source": [
    "#For particular colors\n",
    "\n",
    "universe.plot(width = (2, 2), basis = 'xy', colors = {cell: 'black'})\n"
   ]
  },
  {
   "cell_type": "code",
   "execution_count": 29,
   "metadata": {},
   "outputs": [],
   "source": [
    "#Pin cell geometry define\n",
    "#Pin cell geometry define\n",
    "#Pin cell geometry define\n",
    "\n",
    "#Create surface\n",
    "\n",
    "fuel_or = openmc.ZCylinder(r = 0.38)\n",
    "clad_ir = openmc.ZCylinder(r = 0.40)\n",
    "clad_or = openmc.ZCylinder(r = 0.46)\n",
    "\n",
    "#Create region\n",
    "\n",
    "fuel_region = -fuel_or\n",
    "gap_region = +fuel_or & -clad_ir\n",
    "clad_region = +clad_ir & -clad_or\n",
    "\n"
   ]
  },
  {
   "cell_type": "code",
   "execution_count": 30,
   "metadata": {},
   "outputs": [
    {
     "name": "stderr",
     "output_type": "stream",
     "text": [
      "/home/ashraful/miniconda3/lib/python3.8/site-packages/openmc/mixin.py:68: IDWarning: Another Cell instance already exists with id=1.\n",
      "  warn(msg, IDWarning)\n",
      "/home/ashraful/miniconda3/lib/python3.8/site-packages/openmc/mixin.py:68: IDWarning: Another Cell instance already exists with id=2.\n",
      "  warn(msg, IDWarning)\n"
     ]
    }
   ],
   "source": [
    "#Create the cell\n",
    "\n",
    "fuel = openmc.Cell(1, 'fuel')\n",
    "fuel.fill = uo2\n",
    "fuel.region = fuel_region\n",
    "\n",
    "gap = openmc.Cell(2, 'gap')\n",
    "gap.region = gap_region\n",
    "\n",
    "clad = openmc.Cell(3, 'clad')\n",
    "clad.fill = Zr\n",
    "clad.region = clad_region\n"
   ]
  },
  {
   "cell_type": "code",
   "execution_count": 31,
   "metadata": {},
   "outputs": [
    {
     "data": {
      "text/plain": [
       "<matplotlib.image.AxesImage at 0x7fa14dcb18e0>"
      ]
     },
     "execution_count": 31,
     "metadata": {},
     "output_type": "execute_result"
    },
    {
     "data": {
      "image/png": "[encoded data removed]",
      "text/plain": [
       "<Figure size 432x288 with 1 Axes>"
      ]
     },
     "metadata": {
      "needs_background": "light"
     },
     "output_type": "display_data"
    }
   ],
   "source": [
    "#Create universe; Extra portion\n",
    "\n",
    "universe = openmc.Universe()\n",
    "universe.add_cell(fuel)\n",
    "universe.add_cell(gap)\n",
    "universe.add_cell(clad)\n",
    "\n",
    "universe.plot(width = (1, 1))\n"
   ]
  },
  {
   "cell_type": "code",
   "execution_count": 32,
   "metadata": {},
   "outputs": [
    {
     "data": {
      "text/plain": [
       "<matplotlib.image.AxesImage at 0x7fa14dc87400>"
      ]
     },
     "execution_count": 32,
     "metadata": {},
     "output_type": "execute_result"
    },
    {
     "data": {
      "image/png": "[encoded data removed]",
      "text/plain": [
       "<Figure size 432x288 with 1 Axes>"
      ]
     },
     "metadata": {
      "needs_background": "light"
     },
     "output_type": "display_data"
    }
   ],
   "source": [
    "\n",
    "universe.plot(width = (1, 1), colors = {fuel: 'red', gap: 'white', clad: 'green'})\n"
   ]
  },
  {
   "cell_type": "code",
   "execution_count": 33,
   "metadata": {},
   "outputs": [],
   "source": [
    "#Boundary of the geometry in XY plane\n",
    "\n",
    "pitch = 1.26\n",
    "left = openmc.XPlane(x0 = -pitch/2, boundary_type = 'reflective')\n",
    "right = openmc.XPlane(x0 = pitch/2, boundary_type = 'reflective')\n",
    "bottom = openmc.YPlane(y0 = -pitch/2, boundary_type = 'reflective')\n",
    "top = openmc.YPlane(y0 = pitch/2, boundary_type = 'reflective')\n",
    "\n"
   ]
  },
  {
   "cell_type": "code",
   "execution_count": 34,
   "metadata": {},
   "outputs": [],
   "source": [
    "#Define water region by using them\n",
    "\n",
    "water_region = +left & -right & +bottom & -top & +clad_or\n"
   ]
  },
  {
   "cell_type": "code",
   "execution_count": 35,
   "metadata": {},
   "outputs": [],
   "source": [
    "#Create another cell\n",
    "\n",
    "moderator = openmc.Cell(4, 'moderator')\n",
    "moderator.fill = h2o\n",
    "moderator.region = water_region\n"
   ]
  },
  {
   "cell_type": "code",
   "execution_count": 36,
   "metadata": {},
   "outputs": [
    {
     "data": {
      "text/plain": [
       "<matplotlib.image.AxesImage at 0x7fa14dc56af0>"
      ]
     },
     "execution_count": 36,
     "metadata": {},
     "output_type": "execute_result"
    },
    {
     "data": {
      "image/png": "[encoded data removed]",
      "text/plain": [
       "<Figure size 432x288 with 1 Axes>"
      ]
     },
     "metadata": {
      "needs_background": "light"
     },
     "output_type": "display_data"
    }
   ],
   "source": [
    "#Overall plot\n",
    "\n",
    "universe.add_cell(moderator)\n",
    "\n",
    "universe.plot(width = (1, 1), colors = {fuel: 'red', gap: 'white', clad: 'green', moderator: 'blue'})\n",
    "\n"
   ]
  },
  {
   "cell_type": "code",
   "execution_count": 37,
   "metadata": {},
   "outputs": [
    {
     "data": {
      "text/plain": [
       "openmc.region.Intersection"
      ]
     },
     "execution_count": 37,
     "metadata": {},
     "output_type": "execute_result"
    }
   ],
   "source": [
    "#Boundary of the geometry in XY plane can also be generated by another simple way\n",
    "\n",
    "box = openmc.rectangular_prism(width = pitch, height = pitch, boundary_type = 'reflective')\n",
    "type(box)\n"
   ]
  },
  {
   "cell_type": "code",
   "execution_count": 38,
   "metadata": {},
   "outputs": [],
   "source": [
    "#Define water region for this case\n",
    "\n",
    "water_region = box & +clad_or\n"
   ]
  },
  {
   "cell_type": "code",
   "execution_count": 39,
   "metadata": {},
   "outputs": [
    {
     "name": "stdout",
     "output_type": "stream",
     "text": [
      "<?xml version='1.0' encoding='utf-8'?>\n",
      "<geometry>\n",
      "  <cell id=\"1\" material=\"1\" name=\"fuel\" region=\"-3\" universe=\"3\" />\n",
      "  <cell id=\"2\" material=\"void\" name=\"gap\" region=\"3 -4\" universe=\"3\" />\n",
      "  <cell id=\"3\" material=\"2\" name=\"clad\" region=\"4 -5\" universe=\"3\" />\n",
      "  <cell id=\"4\" material=\"3\" name=\"moderator\" region=\"6 -7 8 -9 5\" universe=\"3\" />\n",
      "  <surface coeffs=\"0.0 0.0 0.38\" id=\"3\" type=\"z-cylinder\" />\n",
      "  <surface coeffs=\"0.0 0.0 0.4\" id=\"4\" type=\"z-cylinder\" />\n",
      "  <surface coeffs=\"0.0 0.0 0.46\" id=\"5\" type=\"z-cylinder\" />\n",
      "  <surface boundary=\"reflective\" coeffs=\"-0.63\" id=\"6\" type=\"x-plane\" />\n",
      "  <surface boundary=\"reflective\" coeffs=\"0.63\" id=\"7\" type=\"x-plane\" />\n",
      "  <surface boundary=\"reflective\" coeffs=\"-0.63\" id=\"8\" type=\"y-plane\" />\n",
      "  <surface boundary=\"reflective\" coeffs=\"0.63\" id=\"9\" type=\"y-plane\" />\n",
      "</geometry>\n"
     ]
    }
   ],
   "source": [
    "#Create the root universe\n",
    "\n",
    "root = openmc.Universe(cells = (fuel, gap, clad, moderator))\n",
    "\n",
    "geom = openmc.Geometry(root)\n",
    "\n",
    "#Or\n",
    "geom = openmc.Geometry()\n",
    "geom.root_universe = root\n",
    "\n",
    "#Finally create the geometry xml file\n",
    "\n",
    "geom.export_to_xml()\n",
    "!cat geometry.xml\n"
   ]
  },
  {
   "cell_type": "code",
   "execution_count": 40,
   "metadata": {},
   "outputs": [],
   "source": [
    "#Creating starting source and creating setting xml file\n",
    "#By using openMC's internal probability distribution\n",
    "\n",
    "point = openmc.stats.Point((0, 0, 0))\n",
    "src = openmc.Source(space = point)\n"
   ]
  },
  {
   "cell_type": "code",
   "execution_count": 41,
   "metadata": {},
   "outputs": [
    {
     "name": "stdout",
     "output_type": "stream",
     "text": [
      "<?xml version='1.0' encoding='utf-8'?>\n",
      "<settings>\n",
      "  <run_mode>eigenvalue</run_mode>\n",
      "  <particles>1000</particles>\n",
      "  <batches>100</batches>\n",
      "  <inactive>10</inactive>\n",
      "  <source strength=\"1.0\">\n",
      "    <space type=\"point\">\n",
      "      <parameters>0 0 0</parameters>\n",
      "    </space>\n",
      "  </source>\n",
      "</settings>\n"
     ]
    }
   ],
   "source": [
    "#Now we create a Settings object to specify how many batches and particles we want to run\n",
    "\n",
    "settings = openmc.Settings()\n",
    "settings.source = src\n",
    "settings.batches = 100\n",
    "settings.inactive = 10\n",
    "settings.particles = 1000\n",
    "\n",
    "#Finally create the setting xml file\n",
    "\n",
    "settings.export_to_xml()\n",
    "!cat settings.xml\n"
   ]
  },
  {
   "cell_type": "code",
   "execution_count": 42,
   "metadata": {},
   "outputs": [],
   "source": [
    "#Create user defind tallies xml file to specify total, fission, absorption, and (n,γ) reaction rates for 235U in the cell containing fuel\n",
    "\n",
    "cell_filter = openmc.CellFilter(fuel)\n",
    "\n",
    "t = openmc.Tally(1)\n",
    "t.filters = [cell_filter]\n",
    "\n",
    "#fixed material for tally\n",
    "\n",
    "t.nuclides = ['U235']\n",
    "t.scores = ['total', 'fission', 'absorption', '(n,gamma)']\n",
    "\n",
    "tallies = openmc.Tallies([t])\n"
   ]
  },
  {
   "cell_type": "code",
   "execution_count": 43,
   "metadata": {},
   "outputs": [
    {
     "name": "stdout",
     "output_type": "stream",
     "text": [
      "<?xml version='1.0' encoding='utf-8'?>\n",
      "<tallies>\n",
      "  <filter id=\"1\" type=\"cell\">\n",
      "    <bins>1</bins>\n",
      "  </filter>\n",
      "  <tally id=\"1\">\n",
      "    <filters>1</filters>\n",
      "    <nuclides>U235</nuclides>\n",
      "    <scores>total fission absorption (n,gamma)</scores>\n",
      "  </tally>\n",
      "</tallies>\n"
     ]
    }
   ],
   "source": [
    "#Finally create the settings xml file\n",
    "\n",
    "tallies.export_to_xml()\n",
    "!cat tallies.xml"
   ]
  },
  {
   "cell_type": "code",
   "execution_count": 44,
   "metadata": {},
   "outputs": [
    {
     "name": "stdout",
     "output_type": "stream",
     "text": [
      "                                %%%%%%%%%%%%%%%\n",
      "                           %%%%%%%%%%%%%%%%%%%%%%%%\n",
      "                        %%%%%%%%%%%%%%%%%%%%%%%%%%%%%%\n",
      "                      %%%%%%%%%%%%%%%%%%%%%%%%%%%%%%%%%%\n",
      "                    %%%%%%%%%%%%%%%%%%%%%%%%%%%%%%%%%%%%%%\n",
      "                   %%%%%%%%%%%%%%%%%%%%%%%%%%%%%%%%%%%%%%%%\n",
      "                                    %%%%%%%%%%%%%%%%%%%%%%%%\n",
      "                                     %%%%%%%%%%%%%%%%%%%%%%%%\n",
      "                 ###############      %%%%%%%%%%%%%%%%%%%%%%%%\n",
      "                ##################     %%%%%%%%%%%%%%%%%%%%%%%\n",
      "                ###################     %%%%%%%%%%%%%%%%%%%%%%%\n",
      "                ####################     %%%%%%%%%%%%%%%%%%%%%%\n",
      "                #####################     %%%%%%%%%%%%%%%%%%%%%\n",
      "                ######################     %%%%%%%%%%%%%%%%%%%%\n",
      "                #######################     %%%%%%%%%%%%%%%%%%\n",
      "                 #######################     %%%%%%%%%%%%%%%%%\n",
      "                 ######################     %%%%%%%%%%%%%%%%%\n",
      "                  ####################     %%%%%%%%%%%%%%%%%\n",
      "                    #################     %%%%%%%%%%%%%%%%%\n",
      "                     ###############     %%%%%%%%%%%%%%%%\n",
      "                       ############     %%%%%%%%%%%%%%%\n",
      "                          ########     %%%%%%%%%%%%%%\n",
      "                                      %%%%%%%%%%%\n",
      "\n",
      "                   | The OpenMC Monte Carlo Code\n",
      "         Copyright | 2011-2020 MIT and OpenMC contributors\n",
      "           License | https://docs.openmc.org/en/latest/license.html\n",
      "           Version | 0.12.0\n",
      "          Git SHA1 | 599a722a542ede426c3f1390a88ddb4e4e0045d3\n",
      "         Date/Time | 2021-12-20 12:21:06\n",
      "    OpenMP Threads | 4\n",
      "\n",
      " Reading settings XML file...\n",
      " Reading cross sections XML file...\n",
      " Reading materials XML file...\n",
      " Reading geometry XML file...\n",
      " Reading U235 from /home/ashraful/Documents/official\n",
      " libraries/endfb71/endfb71_hdf5/U235.h5\n",
      " Reading U238 from /home/ashraful/Documents/official\n",
      " libraries/endfb71/endfb71_hdf5/U238.h5\n",
      " Reading O16 from /home/ashraful/Documents/official\n",
      " libraries/endfb71/endfb71_hdf5/O16.h5\n",
      " Reading Zr90 from /home/ashraful/Documents/official\n",
      " libraries/endfb71/endfb71_hdf5/Zr90.h5\n",
      " Reading Zr91 from /home/ashraful/Documents/official\n",
      " libraries/endfb71/endfb71_hdf5/Zr91.h5\n",
      " Reading Zr92 from /home/ashraful/Documents/official\n",
      " libraries/endfb71/endfb71_hdf5/Zr92.h5\n",
      " Reading Zr94 from /home/ashraful/Documents/official\n",
      " libraries/endfb71/endfb71_hdf5/Zr94.h5\n",
      " Reading Zr96 from /home/ashraful/Documents/official\n",
      " libraries/endfb71/endfb71_hdf5/Zr96.h5\n",
      " Reading H1 from /home/ashraful/Documents/official\n",
      " libraries/endfb71/endfb71_hdf5/H1.h5\n",
      " Reading H2 from /home/ashraful/Documents/official\n",
      " libraries/endfb71/endfb71_hdf5/H2.h5\n",
      " Reading O17 from /home/ashraful/Documents/official\n",
      " libraries/endfb71/endfb71_hdf5/O17.h5\n",
      " Reading c_H_in_H2O from /home/ashraful/Documents/official\n",
      " libraries/endfb71/endfb71_hdf5/c_H_in_H2O.h5\n",
      " Minimum neutron data temperature: 294.000000 K\n",
      " Maximum neutron data temperature: 294.000000 K\n",
      " Reading tallies XML file...\n",
      " Preparing distributed cell instances...\n",
      " Writing summary.h5 file...\n",
      " Maximum neutron transport energy: 20000000.000000 eV for U235\n",
      " Initializing source particles...\n",
      "\n",
      " ====================>     K EIGENVALUE SIMULATION     <====================\n",
      "\n",
      "  Bat./Gen.      k            Average k\n",
      "  =========   ========   ====================\n",
      "        1/1    1.49982\n",
      "        2/1    1.37510\n",
      "        3/1    1.39543\n",
      "        4/1    1.36360\n",
      "        5/1    1.34630\n",
      "        6/1    1.39969\n",
      "        7/1    1.33759\n",
      "        8/1    1.41970\n",
      "        9/1    1.43257\n",
      "       10/1    1.46776\n",
      "       11/1    1.36028\n",
      "       12/1    1.36888    1.36458 +/- 0.00430\n",
      "       13/1    1.42857    1.38591 +/- 0.02148\n",
      "       14/1    1.48443    1.41054 +/- 0.02894\n",
      "       15/1    1.42840    1.41411 +/- 0.02270\n",
      "       16/1    1.40818    1.41312 +/- 0.01856\n",
      "       17/1    1.41790    1.41381 +/- 0.01570\n",
      "       18/1    1.35586    1.40656 +/- 0.01541\n",
      "       19/1    1.44516    1.41085 +/- 0.01425\n",
      "       20/1    1.37800    1.40757 +/- 0.01316\n",
      "       21/1    1.43419    1.40999 +/- 0.01215\n",
      "       22/1    1.32440    1.40285 +/- 0.01318\n",
      "       23/1    1.38676    1.40162 +/- 0.01219\n",
      "       24/1    1.35544    1.39832 +/- 0.01176\n",
      "       25/1    1.46200    1.40256 +/- 0.01174\n",
      "       26/1    1.39700    1.40222 +/- 0.01099\n",
      "       27/1    1.34528    1.39887 +/- 0.01085\n",
      "       28/1    1.43473    1.40086 +/- 0.01042\n",
      "       29/1    1.44498    1.40318 +/- 0.01013\n",
      "       30/1    1.33660    1.39985 +/- 0.01017\n",
      "       31/1    1.36794    1.39833 +/- 0.00979\n",
      "       32/1    1.26163    1.39212 +/- 0.01121\n",
      "       33/1    1.40637    1.39274 +/- 0.01073\n",
      "       34/1    1.44973    1.39511 +/- 0.01055\n",
      "       35/1    1.41381    1.39586 +/- 0.01014\n",
      "       36/1    1.40586    1.39625 +/- 0.00975\n",
      "       37/1    1.45928    1.39858 +/- 0.00967\n",
      "       38/1    1.35215    1.39692 +/- 0.00947\n",
      "       39/1    1.42000    1.39772 +/- 0.00917\n",
      "       40/1    1.41509    1.39830 +/- 0.00888\n",
      "       41/1    1.43118    1.39936 +/- 0.00865\n",
      "       42/1    1.45845    1.40120 +/- 0.00858\n",
      "       43/1    1.46421    1.40311 +/- 0.00853\n",
      "       44/1    1.40560    1.40319 +/- 0.00828\n",
      "       45/1    1.49223    1.40573 +/- 0.00843\n",
      "       46/1    1.38475    1.40515 +/- 0.00821\n",
      "       47/1    1.40920    1.40526 +/- 0.00799\n",
      "       48/1    1.33620    1.40344 +/- 0.00798\n",
      "       49/1    1.36453    1.40244 +/- 0.00784\n",
      "       50/1    1.38670    1.40205 +/- 0.00765\n",
      "       51/1    1.37953    1.40150 +/- 0.00748\n",
      "       52/1    1.30973    1.39931 +/- 0.00762\n",
      "       53/1    1.44428    1.40036 +/- 0.00752\n",
      "       54/1    1.36705    1.39960 +/- 0.00738\n",
      "       55/1    1.40550    1.39973 +/- 0.00722\n",
      "       56/1    1.41679    1.40010 +/- 0.00707\n",
      "       57/1    1.41344    1.40039 +/- 0.00692\n",
      "       58/1    1.38316    1.40003 +/- 0.00679\n",
      "       59/1    1.44098    1.40087 +/- 0.00670\n",
      "       60/1    1.42574    1.40136 +/- 0.00658\n",
      "       61/1    1.45005    1.40232 +/- 0.00652\n",
      "       62/1    1.40474    1.40236 +/- 0.00640\n",
      "       63/1    1.43764    1.40303 +/- 0.00631\n",
      "       64/1    1.41946    1.40333 +/- 0.00620\n",
      "       65/1    1.29894    1.40144 +/- 0.00637\n",
      "       66/1    1.40708    1.40154 +/- 0.00626\n",
      "       67/1    1.50094    1.40328 +/- 0.00639\n",
      "       68/1    1.37762    1.40284 +/- 0.00630\n",
      "       69/1    1.29571    1.40102 +/- 0.00645\n",
      "       70/1    1.39899    1.40099 +/- 0.00634\n",
      "       71/1    1.38479    1.40072 +/- 0.00624\n",
      "       72/1    1.43813    1.40133 +/- 0.00617\n",
      "       73/1    1.38417    1.40105 +/- 0.00608\n",
      "       74/1    1.43187    1.40154 +/- 0.00600\n",
      "       75/1    1.45326    1.40233 +/- 0.00596\n",
      "       76/1    1.48154    1.40353 +/- 0.00599\n",
      "       77/1    1.37728    1.40314 +/- 0.00591\n",
      "       78/1    1.35990    1.40250 +/- 0.00586\n",
      "       79/1    1.45807    1.40331 +/- 0.00583\n",
      "       80/1    1.37207    1.40286 +/- 0.00577\n",
      "       81/1    1.37897    1.40253 +/- 0.00569\n",
      "       82/1    1.45998    1.40332 +/- 0.00567\n",
      "       83/1    1.37033    1.40287 +/- 0.00561\n",
      "       84/1    1.43390    1.40329 +/- 0.00555\n",
      "       85/1    1.41477    1.40344 +/- 0.00548\n",
      "       86/1    1.39981    1.40340 +/- 0.00541\n",
      "       87/1    1.31459    1.40224 +/- 0.00546\n",
      "       88/1    1.36313    1.40174 +/- 0.00541\n",
      "       89/1    1.34453    1.40102 +/- 0.00539\n",
      "       90/1    1.44953    1.40162 +/- 0.00536\n",
      "       91/1    1.40355    1.40165 +/- 0.00529\n",
      "       92/1    1.37509    1.40132 +/- 0.00524\n",
      "       93/1    1.46427    1.40208 +/- 0.00523\n",
      "       94/1    1.48356    1.40305 +/- 0.00526\n",
      "       95/1    1.35659    1.40251 +/- 0.00522\n",
      "       96/1    1.51952    1.40387 +/- 0.00534\n",
      "       97/1    1.37295    1.40351 +/- 0.00529\n",
      "       98/1    1.44927    1.40403 +/- 0.00525\n",
      "       99/1    1.37138    1.40366 +/- 0.00521\n",
      "      100/1    1.42434    1.40389 +/- 0.00515\n",
      " Creating state point statepoint.100.h5...\n",
      "\n",
      " =======================>     TIMING STATISTICS     <=======================\n",
      "\n",
      " Total time for initialization     = 1.9597e+00 seconds\n",
      "   Reading cross sections          = 1.9440e+00 seconds\n",
      " Total time in simulation          = 3.7117e+00 seconds\n",
      "   Time in transport only          = 3.6644e+00 seconds\n",
      "   Time in inactive batches        = 3.6116e-01 seconds\n",
      "   Time in active batches          = 3.3505e+00 seconds\n",
      "   Time synchronizing fission bank = 5.1341e-03 seconds\n",
      "     Sampling source sites         = 4.3610e-03 seconds\n",
      "     SEND/RECV source sites        = 6.4563e-04 seconds\n",
      "   Time accumulating tallies       = 1.0752e-04 seconds\n",
      " Total time for finalization       = 1.7841e-04 seconds\n",
      " Total time elapsed                = 5.6763e+00 seconds\n",
      " Calculation Rate (inactive)       = 27688.2 particles/second\n",
      " Calculation Rate (active)         = 26861.6 particles/second\n",
      "\n",
      " ============================>     RESULTS     <============================\n",
      "\n",
      " k-effective (Collision)     = 1.40649 +/- 0.00473\n",
      " k-effective (Track-length)  = 1.40389 +/- 0.00515\n",
      " k-effective (Absorption)    = 1.40778 +/- 0.00305\n",
      " Combined k-effective        = 1.40702 +/- 0.00296\n",
      " Leakage Fraction            = 0.00000 +/- 0.00000\n",
      "\n"
     ]
    }
   ],
   "source": [
    "#Finall Run the openMC\n",
    "\n",
    "openmc.run()\n"
   ]
  },
  {
   "cell_type": "code",
   "execution_count": 45,
   "metadata": {},
   "outputs": [
    {
     "name": "stdout",
     "output_type": "stream",
     "text": [
      " ============================>     TALLY 1     <============================\n",
      "\n",
      " Cell 1\n",
      "   U235\n",
      "     Total Reaction Rate                  0.730163 +/- 0.00256282\n",
      "     Fission Rate                         0.549668 +/- 0.00211175\n",
      "     Absorption Rate                      0.659136 +/- 0.00249166\n",
      "     (n,gamma)                            0.109469 +/- 0.000392232\n"
     ]
    }
   ],
   "source": [
    "#See the tally we defined\n",
    "\n",
    "!cat tallies.out\n"
   ]
  },
  {
   "cell_type": "code",
   "execution_count": null,
   "metadata": {},
   "outputs": [],
   "source": []
  }
 ],
 "metadata": {
  "kernelspec": {
   "display_name": "Python 3",
   "language": "python",
   "name": "python3"
  },
  "language_info": {
   "codemirror_mode": {
    "name": "ipython",
    "version": 3
   },
   "file_extension": ".py",
   "mimetype": "text/x-python",
   "name": "python",
   "nbconvert_exporter": "python",
   "pygments_lexer": "ipython3",
   "version": "3.8.5"
  }
 },
 "nbformat": 4,
 "nbformat_minor": 4
}
